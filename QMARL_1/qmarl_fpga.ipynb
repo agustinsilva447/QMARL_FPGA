{
 "cells": [
  {
   "cell_type": "code",
   "execution_count": 44,
   "metadata": {},
   "outputs": [],
   "source": [
    "import udma\n",
    "import numpy as np"
   ]
  },
  {
   "cell_type": "code",
   "execution_count": 45,
   "metadata": {},
   "outputs": [],
   "source": [
    "cb = udma.UDMA_CLASS('192.168.1.10', 7)"
   ]
  },
  {
   "cell_type": "code",
   "execution_count": 46,
   "metadata": {},
   "outputs": [
    {
     "data": {
      "text/plain": [
       "1"
      ]
     },
     "execution_count": 46,
     "metadata": {},
     "output_type": "execute_result"
    }
   ],
   "source": [
    "cb.connect()"
   ]
  },
  {
   "cell_type": "code",
   "execution_count": 60,
   "metadata": {},
   "outputs": [
    {
     "name": "stdout",
     "output_type": "stream",
     "text": [
      "[(1, 1), (0,)] [(1, 1), (4194304,)] [(1, 1), (4194304,)]\n"
     ]
    },
    {
     "data": {
      "text/plain": [
       "[(1, 0), 0]"
      ]
     },
     "execution_count": 60,
     "metadata": {},
     "output_type": "execute_result"
    }
   ],
   "source": [
    "cb.write_reg(3, 1)\n",
    "cb.write_reg(0, 0)\n",
    "cb.write_reg(1, 0)\n",
    "cb.write_reg(2, 0)\n",
    "x = cb.read_reg(0)\n",
    "p0 = cb.read_reg(1)\n",
    "p1 = cb.read_reg(2)\n",
    "print(x, p0, p1)\n",
    "cb.write_reg(3, 0)"
   ]
  },
  {
   "cell_type": "code",
   "execution_count": 61,
   "metadata": {},
   "outputs": [
    {
     "name": "stdout",
     "output_type": "stream",
     "text": [
      "1 10240\n",
      "[(1, 1), (0,)] [(1, 1), (4294941997,)] [(1, 1), (2128575995,)]\n",
      "1 10240\n",
      "[(1, 1), (0,)] [(1, 1), (4294375109,)] [(1, 1), (2062127387,)]\n",
      "1 10240\n",
      "[(1, 1), (0,)] [(1, 1), (4291205208,)] [(1, 1), (2062127387,)]\n",
      "1 10240\n",
      "[(1, 1), (0,)] [(1, 1), (4294845430,)] [(1, 1), (2063302651,)]\n",
      "1 10240\n",
      "[(1, 1), (0,)] [(1, 1), (4294391640,)] [(1, 1), (2062127387,)]\n",
      "1 10240\n",
      "[(1, 1), (4294967295,)] [(1, 1), (4294434167,)] [(1, 1), (2062094659,)]\n",
      "1 10240\n",
      "[(1, 1), (4294967295,)] [(1, 1), (4294131426,)] [(1, 1), (2062094659,)]\n",
      "1 10240\n",
      "[(1, 1), (0,)] [(1, 1), (4294949959,)] [(1, 1), (2062127387,)]\n",
      "1 10240\n",
      "[(1, 1), (0,)] [(1, 1), (4294495883,)] [(1, 1), (2063302651,)]\n",
      "1 10240\n",
      "[(1, 1), (0,)] [(1, 1), (4293762571,)] [(1, 1), (2062094530,)]\n"
     ]
    },
    {
     "data": {
      "text/plain": [
       "[(1, 0), 0]"
      ]
     },
     "execution_count": 61,
     "metadata": {},
     "output_type": "execute_result"
    }
   ],
   "source": [
    "for i in range(10):\n",
    "    action = 1\n",
    "    reward = 10240\n",
    "    print(action, reward)\n",
    "    cb.write_reg(1, action)\n",
    "    cb.write_reg(2, reward) # (m+n) = 16 ; n = 11 ; signed ;\n",
    "    cb.write_reg(0, 1)\n",
    "    x = cb.read_reg(0)\n",
    "    p0 = cb.read_reg(1)\n",
    "    p1 = cb.read_reg(2)\n",
    "    print(x, p0, p1)\n",
    "cb.write_reg(0, 0)"
   ]
  },
  {
   "cell_type": "code",
   "execution_count": 62,
   "metadata": {},
   "outputs": [
    {
     "name": "stdout",
     "output_type": "stream",
     "text": [
      "[(1, 1), (0,)] [(1, 1), (4194304,)] [(1, 1), (4194304,)]\n"
     ]
    },
    {
     "data": {
      "text/plain": [
       "[(1, 0), 0]"
      ]
     },
     "execution_count": 62,
     "metadata": {},
     "output_type": "execute_result"
    }
   ],
   "source": [
    "cb.write_reg(3, 1)\n",
    "cb.write_reg(0, 0)\n",
    "cb.write_reg(1, 0)\n",
    "cb.write_reg(2, 0)\n",
    "x = cb.read_reg(0)\n",
    "p0 = cb.read_reg(1)\n",
    "p1 = cb.read_reg(2)\n",
    "print(x, p0, p1)\n",
    "cb.write_reg(3, 0)"
   ]
  },
  {
   "cell_type": "code",
   "execution_count": 63,
   "metadata": {},
   "outputs": [
    {
     "name": "stdout",
     "output_type": "stream",
     "text": [
      "95 24271\n"
     ]
    },
    {
     "ename": "ConnectionAbortedError",
     "evalue": "[WinError 10053] An established connection was aborted by the software in your host machine",
     "output_type": "error",
     "traceback": [
      "\u001b[1;31m---------------------------------------------------------------------------\u001b[0m",
      "\u001b[1;31mConnectionAbortedError\u001b[0m                    Traceback (most recent call last)",
      "\u001b[1;32mc:\\Users\\mlabadmin\\Desktop\\QMARL\\QMARL_1\\qmarl_fpga.ipynb Cell 7\u001b[0m in \u001b[0;36m8\n\u001b[0;32m      <a href='vscode-notebook-cell:/c%3A/Users/mlabadmin/Desktop/QMARL/QMARL_1/qmarl_fpga.ipynb#W3sZmlsZQ%3D%3D?line=5'>6</a>\u001b[0m cb\u001b[39m.\u001b[39mwrite_reg(\u001b[39m2\u001b[39m, reward)\n\u001b[0;32m      <a href='vscode-notebook-cell:/c%3A/Users/mlabadmin/Desktop/QMARL/QMARL_1/qmarl_fpga.ipynb#W3sZmlsZQ%3D%3D?line=6'>7</a>\u001b[0m cb\u001b[39m.\u001b[39mwrite_reg(\u001b[39m0\u001b[39m, \u001b[39m1\u001b[39m)\n\u001b[1;32m----> <a href='vscode-notebook-cell:/c%3A/Users/mlabadmin/Desktop/QMARL/QMARL_1/qmarl_fpga.ipynb#W3sZmlsZQ%3D%3D?line=7'>8</a>\u001b[0m x \u001b[39m=\u001b[39m cb\u001b[39m.\u001b[39;49mread_reg(\u001b[39m0\u001b[39;49m)\n\u001b[0;32m      <a href='vscode-notebook-cell:/c%3A/Users/mlabadmin/Desktop/QMARL/QMARL_1/qmarl_fpga.ipynb#W3sZmlsZQ%3D%3D?line=8'>9</a>\u001b[0m p0 \u001b[39m=\u001b[39m cb\u001b[39m.\u001b[39mread_reg(\u001b[39m1\u001b[39m)\n\u001b[0;32m     <a href='vscode-notebook-cell:/c%3A/Users/mlabadmin/Desktop/QMARL/QMARL_1/qmarl_fpga.ipynb#W3sZmlsZQ%3D%3D?line=9'>10</a>\u001b[0m p1 \u001b[39m=\u001b[39m cb\u001b[39m.\u001b[39mread_reg(\u001b[39m2\u001b[39m)\n",
      "File \u001b[1;32mc:\\Users\\mlabadmin\\AppData\\Local\\Programs\\Python\\Python310\\lib\\site-packages\\udma\\udma.py:174\u001b[0m, in \u001b[0;36mUDMA_CLASS.read_reg\u001b[1;34m(self, reg)\u001b[0m\n\u001b[0;32m    172\u001b[0m tx_buf  \u001b[39m=\u001b[39m pack(\u001b[39m\"\u001b[39m\u001b[39m<II\u001b[39m\u001b[39m\"\u001b[39m,READ_REG, reg)\n\u001b[0;32m    173\u001b[0m \u001b[39mself\u001b[39m\u001b[39m.\u001b[39ms\u001b[39m.\u001b[39msend(tx_buf)\n\u001b[1;32m--> 174\u001b[0m rx_buf \u001b[39m=\u001b[39m \u001b[39mself\u001b[39;49m\u001b[39m.\u001b[39;49ms\u001b[39m.\u001b[39;49mrecv(\u001b[39m2\u001b[39;49m \u001b[39m*\u001b[39;49m \u001b[39m4\u001b[39;49m)\n\u001b[0;32m    175\u001b[0m head \u001b[39m=\u001b[39m unpack(\u001b[39m'\u001b[39m\u001b[39m<II\u001b[39m\u001b[39m'\u001b[39m, rx_buf)\n\u001b[0;32m    176\u001b[0m \u001b[39mif\u001b[39;00m head[\u001b[39m0\u001b[39m] \u001b[39m==\u001b[39m SUCCESS:\n",
      "\u001b[1;31mConnectionAbortedError\u001b[0m: [WinError 10053] An established connection was aborted by the software in your host machine"
     ]
    }
   ],
   "source": [
    "for i in range(10):\n",
    "    action = np.random.randint(0,511)\n",
    "    reward = np.random.randint(0,32767)\n",
    "    print(action, reward)\n",
    "    cb.write_reg(1, action)\n",
    "    cb.write_reg(2, reward)\n",
    "    cb.write_reg(0, 1)\n",
    "    x = cb.read_reg(0)\n",
    "    p0 = cb.read_reg(1)\n",
    "    p1 = cb.read_reg(2)\n",
    "    print(x, p0, p1)\n",
    "cb.write_reg(0, 0)"
   ]
  },
  {
   "cell_type": "code",
   "execution_count": null,
   "metadata": {},
   "outputs": [],
   "source": []
  }
 ],
 "metadata": {
  "kernelspec": {
   "display_name": "Python 3",
   "language": "python",
   "name": "python3"
  },
  "language_info": {
   "codemirror_mode": {
    "name": "ipython",
    "version": 3
   },
   "file_extension": ".py",
   "mimetype": "text/x-python",
   "name": "python",
   "nbconvert_exporter": "python",
   "pygments_lexer": "ipython3",
   "version": "3.10.7"
  },
  "orig_nbformat": 4
 },
 "nbformat": 4,
 "nbformat_minor": 2
}
