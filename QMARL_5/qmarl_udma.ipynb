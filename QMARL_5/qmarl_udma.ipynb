{
 "cells": [
  {
   "cell_type": "code",
   "execution_count": null,
   "metadata": {},
   "outputs": [],
   "source": [
    "import udma\n",
    "import numpy as np\n",
    "import fxpmath as fx\n",
    "import matplotlib.pyplot as plt\n",
    "from tqdm import trange"
   ]
  },
  {
   "cell_type": "code",
   "execution_count": null,
   "metadata": {},
   "outputs": [],
   "source": [
    "cb = udma.UDMA_CLASS('192.168.1.10', 7)\n",
    "cb.connect()\n",
    "cb.log(0)"
   ]
  },
  {
   "cell_type": "code",
   "execution_count": null,
   "metadata": {},
   "outputs": [],
   "source": [
    "cb.write_reg(0, 1)\n",
    "cb.write_reg(0, 0)"
   ]
  },
  {
   "cell_type": "code",
   "execution_count": null,
   "metadata": {},
   "outputs": [],
   "source": [
    "for i in trange(1):\n",
    "    x = np.random.randint(0,32767)\n",
    "    cb.write_fifo(1, [x])\n",
    "    #print(x)\n",
    "    while (cb.read_reg(1)[1][0] & 1 == 0):\n",
    "        pass"
   ]
  },
  {
   "cell_type": "code",
   "execution_count": null,
   "metadata": {},
   "outputs": [],
   "source": [
    "# AGENTS\n",
    "class Agent:\n",
    "    def __init__(self, n_anctions, alfa):\n",
    "        self.alfa = alfa\n",
    "        self.n_anctions = n_anctions\n",
    "        self.indices = np.arange(n_anctions)\n",
    "        self.prob = np.ones(self.n_anctions) / self.n_anctions\n",
    "        #self.prob = fx.Fxp(np.ones(self.n_anctions) / self.n_anctions, signed=True, n_word=25, n_frac=22)\n",
    "    def step(self, action, reward):    \n",
    "        self.prob = (1 - self.alfa * reward) * self.prob\n",
    "        self.prob[action] += self.alfa * reward\n",
    "    def act(self):\n",
    "        #aux0 = np.array(self.prob)\n",
    "        #aux1 = np.sum(aux0)\n",
    "        #p_aux = aux0/aux1\n",
    "        return np.random.choice(self.indices, p=self.prob)"
   ]
  },
  {
   "cell_type": "code",
   "execution_count": null,
   "metadata": {},
   "outputs": [],
   "source": [
    "# QUANTUM\n",
    "def general1qgate(a,b,c):\n",
    "    u2 = np.matrix([[             np.cos(a/2), -np.exp(1j*c)    *np.sin(a/2)],\n",
    "                    [np.exp(1j*b)*np.sin(a/2),  np.exp(1j*(b+c))*np.cos(a/2)]])\n",
    "    return u2\n",
    "\n",
    "def Numpy_QGT_Nplayers(tipo, J_init, J_dg):\n",
    "    n_p = len(tipo)\n",
    "    strategies_gate = 1\n",
    "    for i in range(n_p):      \n",
    "      players_gate = general1qgate(tipo[i][0], tipo[i][1], tipo[i][2])\n",
    "      strategies_gate = np.kron(strategies_gate, players_gate)\n",
    "    outputstate = J_dg * strategies_gate * J_init\n",
    "    prob = np.power(np.abs(outputstate),2)\n",
    "    return prob\n",
    "\n",
    "def matrix_reward(rotat, J_init, J_dg):  \n",
    "  prob = Numpy_QGT_Nplayers(rotat, J_init, J_dg)\n",
    "  reward_g = prob.transpose() * game\n",
    "  reward_h = reward_g.tolist()[0]\n",
    "  return reward_h\n",
    "\n",
    "# GAME\n",
    "def int_to_binary(s,m):\n",
    "    if s == 0:\n",
    "        return \"0 \" * m\n",
    "    binary1 = \"\"\n",
    "    while s > 0:\n",
    "        binary1 = str(s % 2) + \" \" + binary1\n",
    "        s = s // 2\n",
    "    binary2 = \"0 \" * (m - len(binary1)//2) + binary1\n",
    "    return binary2\n",
    "\n",
    "def platonia_matrix(n): \n",
    "  mm = np.zeros([2**n,n])\n",
    "  for i in range(n):\n",
    "    mm[2**i][n-i-1] = 10\n",
    "  return  mm\n",
    "\n",
    "def minority_matrix(n):\n",
    "  mm = np.zeros([2**n,n])\n",
    "  for i in range(2**n):\n",
    "    numpy_data = np.fromstring(int_to_binary(i,n), dtype=int, sep=' ')\n",
    "    if (np.count_nonzero(numpy_data == 0) > np.count_nonzero(numpy_data == 1)):\n",
    "      mm[i] = np.where(numpy_data == 1, 10, 0)\n",
    "    elif (np.count_nonzero(numpy_data == 0) < np.count_nonzero(numpy_data == 1)):\n",
    "      mm[i] = np.where(numpy_data == 0, 10, 0)\n",
    "  return  mm"
   ]
  },
  {
   "cell_type": "code",
   "execution_count": null,
   "metadata": {},
   "outputs": [],
   "source": [
    "# MAIN\n",
    "players     = 2\n",
    "alfa        = 1/(2**6)\n",
    "t_max       = 100000\n",
    "window1     = 1000\n",
    "actions     = [0 for i in range(players)]\n",
    "rotat       = np.zeros([len(actions), 3])\n",
    "rewards     = np.zeros((players, t_max))\n",
    "rewards_avg = np.zeros(rewards.shape)\n",
    "game        = platonia_matrix(players)\n",
    "\n",
    "N_SIZE = 3\n",
    "A_MAX  = 2 * np.pi\n",
    "angulos = np.arange(0, A_MAX, A_MAX / np.power(2, N_SIZE))\n",
    "all_actions = [(rx,ry,0) for rx in angulos for ry in angulos]\n",
    "#all_actions = [(rx,ry,rz) for rx in angulos for ry in angulos for rz in angulos]\n",
    "gamma = np.pi/2\n",
    "print(\"Players = {}. Learning Rate = {}. Gamma = {:.6f}. Number of actions = {}. \\n {}\".format(players, alfa, gamma, len(all_actions), game))\n",
    "\n",
    "init_mat = np.matrix([[1] if i==0 else [0] for i in range(2**players)])\n",
    "I_f = np.array(np.eye(2**players))\n",
    "X_f = np.array(np.flip(np.eye(2**players),0))\n",
    "J = np.matrix(np.cos(gamma/2) * I_f + 1j * np.sin(gamma/2) * X_f)\n",
    "J_dg = J.H\n",
    "J_init = J * init_mat"
   ]
  },
  {
   "cell_type": "code",
   "execution_count": null,
   "metadata": {},
   "outputs": [],
   "source": [
    "# Initialization\n",
    "agents = []\n",
    "hw_data = []                            # extra\n",
    "for i in range(players-1):\n",
    "    agents.append(Agent(n_anctions=len(all_actions), alfa=alfa))\n",
    "    actions[i] = agents[i].act()\n",
    "    rotat[i] = all_actions[actions[i]]\n",
    "##############################\n",
    "i = players-1\n",
    "cb.write_reg(0, 1)\n",
    "cb.write_reg(0, 0)\n",
    "actions[i] = cb.read_reg(0)[1][0]       #np.random.randint(0, 512)\n",
    "rotat[i] = all_actions[actions[i]]\n",
    "##############################\n",
    "reward = matrix_reward(rotat, J_init, J_dg)\n",
    "print(reward)"
   ]
  },
  {
   "cell_type": "code",
   "execution_count": null,
   "metadata": {},
   "outputs": [],
   "source": [
    "# Iterations\n",
    "for t in trange(t_max):\n",
    "    # Update\n",
    "    for i in range(players-1):\n",
    "        rewards[i,t] = reward[i]\n",
    "        if t<window1:\n",
    "            rewards_avg[i,t] = np.mean(rewards[i,0:t+1])\n",
    "        else:\n",
    "            rewards_avg[i,t] = np.mean(rewards[i,t-window1:t+1])\n",
    "        agents[i].step(actions[i], reward[i])\n",
    "        actions[i] = agents[i].act()\n",
    "        rotat[i] = all_actions[actions[i]]    \n",
    "    ##############################\n",
    "    i = players-1\n",
    "    rewards[i,t] = reward[i]\n",
    "    if t<window1:\n",
    "        rewards_avg[i,t] = np.mean(rewards[i,0:t+1])\n",
    "    else:\n",
    "        rewards_avg[i,t] = np.mean(rewards[i,t-window1:t+1])    \n",
    "    \n",
    "    r_bin = fx.Fxp(reward[i], signed=True, n_word=16, n_frac=11)\n",
    "    r_int = int(r_bin.bin(), 2)\n",
    "    cb.write_fifo(1, [r_int])\n",
    "    while(cb.read_reg(1)[1][0] & 1 == 0):\n",
    "        pass\n",
    "    actions[i] = cb.read_reg(0)[1][0]\n",
    "    rotat[i] = all_actions[actions[i]]\n",
    "    ##############################\n",
    "    reward = matrix_reward(rotat, J_init, J_dg)\n",
    "    if (t % 1000) == 0:\n",
    "        print(\"R_SW = {} | R_HW = {}\".format(rewards_avg[0,t], rewards_avg[1,t]))"
   ]
  },
  {
   "cell_type": "code",
   "execution_count": 21,
   "metadata": {},
   "outputs": [
    {
     "name": "stdout",
     "output_type": "stream",
     "text": [
      "Average Reward of Player 0 = 0.000000.\n",
      "Average Reward of Player 1 = 0.000000.\n",
      "Performance over all players = 0.00%.\n"
     ]
    },
    {
     "data": {
      "image/png": "[encoded data removed]",
      "text/plain": [
       "<Figure size 1200x800 with 1 Axes>"
      ]
     },
     "metadata": {},
     "output_type": "display_data"
    }
   ],
   "source": [
    "# Plotting\n",
    "plt.figure(figsize=(12,8))\n",
    "cumsum = 0\n",
    "for i in range(players):\n",
    "    if i!=(players-1):\n",
    "        plt.plot(rewards_avg[i], label=\"Player {} (SW)\".format(i))\n",
    "    else:\n",
    "        plt.plot(rewards_avg[i], label=\"Player {} (HW)\".format(i))\n",
    "    print(\"Average Reward of Player {} = {:.6f}.\".format(i, rewards_avg[i][-1]))\n",
    "    cumsum += rewards_avg[i][-1]\n",
    "print(\"Performance over all players = {:.2f}%.\".format(10 * cumsum / (players // 2)))\n",
    "plt.ylim(-0.5,10.5)\n",
    "plt.xlabel(\"Iterations\")\n",
    "plt.ylabel(\"Rewards\")\n",
    "plt.title(\"Reward vs Iterations\")\n",
    "plt.legend(loc=\"upper left\")\n",
    "plt.show()"
   ]
  },
  {
   "cell_type": "code",
   "execution_count": null,
   "metadata": {},
   "outputs": [],
   "source": []
  }
 ],
 "metadata": {
  "kernelspec": {
   "display_name": "Python 3",
   "language": "python",
   "name": "python3"
  },
  "language_info": {
   "codemirror_mode": {
    "name": "ipython",
    "version": 3
   },
   "file_extension": ".py",
   "mimetype": "text/x-python",
   "name": "python",
   "nbconvert_exporter": "python",
   "pygments_lexer": "ipython3",
   "version": "3.10.7"
  },
  "orig_nbformat": 4
 },
 "nbformat": 4,
 "nbformat_minor": 2
}
