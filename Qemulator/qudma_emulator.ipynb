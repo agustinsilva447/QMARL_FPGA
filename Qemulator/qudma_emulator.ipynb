{
 "cells": [
  {
   "cell_type": "code",
   "execution_count": 14,
   "metadata": {},
   "outputs": [],
   "source": [
    "import udma\n",
    "import numpy as np"
   ]
  },
  {
   "cell_type": "code",
   "execution_count": 15,
   "metadata": {},
   "outputs": [
    {
     "data": {
      "text/plain": [
       "[(5,), 0]"
      ]
     },
     "execution_count": 15,
     "metadata": {},
     "output_type": "execute_result"
    }
   ],
   "source": [
    "cb = udma.UDMA_CLASS('192.168.1.10', 7)\n",
    "cb.connect()\n",
    "cb.log(0)"
   ]
  },
  {
   "cell_type": "code",
   "execution_count": 16,
   "metadata": {},
   "outputs": [
    {
     "data": {
      "text/plain": [
       "[(1, 0), 0]"
      ]
     },
     "execution_count": 16,
     "metadata": {},
     "output_type": "execute_result"
    }
   ],
   "source": [
    "cb.write_reg(0, 1)\n",
    "cb.write_reg(0, 0)"
   ]
  },
  {
   "cell_type": "code",
   "execution_count": 30,
   "metadata": {},
   "outputs": [
    {
     "data": {
      "text/plain": [
       "[(1, 0), 0]"
      ]
     },
     "execution_count": 30,
     "metadata": {},
     "output_type": "execute_result"
    }
   ],
   "source": [
    "action1 = 62\n",
    "action2 = 13\n",
    "cb.write_reg(2, 0)\n",
    "cb.write_reg(4, 0)\n",
    "cb.write_reg(1, action1)\n",
    "cb.write_reg(3, action2)\n"
   ]
  },
  {
   "cell_type": "code",
   "execution_count": 31,
   "metadata": {},
   "outputs": [
    {
     "data": {
      "text/plain": [
       "[(1, 0), 0]"
      ]
     },
     "execution_count": 31,
     "metadata": {},
     "output_type": "execute_result"
    }
   ],
   "source": [
    "cb.write_reg(2, 1)\n",
    "cb.write_reg(4, 1)"
   ]
  },
  {
   "cell_type": "code",
   "execution_count": 32,
   "metadata": {},
   "outputs": [],
   "source": [
    "cb.write_reg(2, 0)\n",
    "cb.write_reg(4, 0)\n",
    "r1 = cb.read_reg(0)[1][0]\n",
    "v1 = cb.read_reg(1)[1][0]\n",
    "r2 = cb.read_reg(2)[1][0]\n",
    "v2 = cb.read_reg(3)[1][0]"
   ]
  },
  {
   "cell_type": "code",
   "execution_count": 26,
   "metadata": {},
   "outputs": [],
   "source": [
    "def dec2fixed(dec, left, right):\n",
    "    binary = np.binary_repr(dec, width = (left - right + 1))\n",
    "    fixed = 0\n",
    "    for i,j in enumerate(np.arange(left, right - 1, -1)):\n",
    "        if j<0:\n",
    "            fixed += int(binary[i]) / (2**(-j))\n",
    "        else:\n",
    "            fixed += int(binary[i]) * (2**(j))\n",
    "    return fixed"
   ]
  },
  {
   "cell_type": "code",
   "execution_count": 33,
   "metadata": {},
   "outputs": [
    {
     "name": "stdout",
     "output_type": "stream",
     "text": [
      "2.1337890625\n",
      "0.365234375\n"
     ]
    }
   ],
   "source": [
    "print(dec2fixed(r1, 4, -11))\n",
    "print(dec2fixed(r2, 4, -11))"
   ]
  }
 ],
 "metadata": {
  "kernelspec": {
   "display_name": "Python 3",
   "language": "python",
   "name": "python3"
  },
  "language_info": {
   "codemirror_mode": {
    "name": "ipython",
    "version": 3
   },
   "file_extension": ".py",
   "mimetype": "text/x-python",
   "name": "python",
   "nbconvert_exporter": "python",
   "pygments_lexer": "ipython3",
   "version": "3.10.7"
  }
 },
 "nbformat": 4,
 "nbformat_minor": 2
}
