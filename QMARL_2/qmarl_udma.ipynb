{
 "cells": [
  {
   "cell_type": "code",
   "execution_count": 2,
   "metadata": {},
   "outputs": [],
   "source": [
    "import udma\n",
    "import numpy as np\n",
    "import fxpmath as fx\n",
    "import matplotlib.pyplot as plt\n",
    "from tqdm import trange"
   ]
  },
  {
   "cell_type": "code",
   "execution_count": 5,
   "metadata": {},
   "outputs": [
    {
     "data": {
      "text/plain": [
       "[(5,), 0]"
      ]
     },
     "execution_count": 5,
     "metadata": {},
     "output_type": "execute_result"
    }
   ],
   "source": [
    "cb = udma.UDMA_CLASS('192.168.1.10', 7)\n",
    "cb.connect()\n",
    "cb.log(0)"
   ]
  },
  {
   "cell_type": "code",
   "execution_count": 4,
   "metadata": {},
   "outputs": [
    {
     "name": "stderr",
     "output_type": "stream",
     "text": [
      "100%|██████████| 1/1 [00:00<00:00, 10.18it/s]\n"
     ]
    }
   ],
   "source": [
    "cb.write_reg(0, 1)\n",
    "cb.write_reg(0, 0)\n",
    "for i in trange(1):\n",
    "    cb.write_fifo(1, [np.random.randint(0,32767)])\n",
    "    while (cb.read_reg(1)[1][0] & 1 == 0):\n",
    "        pass"
   ]
  },
  {
   "cell_type": "code",
   "execution_count": null,
   "metadata": {},
   "outputs": [],
   "source": [
    "def write_data_hw(hw_data):\n",
    "    for i,j in enumerate(hw_data):\n",
    "        j.append(cb.read_reg(i)[1][0])\n",
    "\n",
    "def read_data_hw(hw_data):\n",
    "    for i,j in enumerate(hw_data):\n",
    "        print(\"Reg_{} = {}\".format(i, j))\n",
    "\n",
    "def clock_hw():\n",
    "    cb.write_reg(1, 1)\n",
    "    cb.write_reg(1, 0)  "
   ]
  },
  {
   "cell_type": "code",
   "execution_count": null,
   "metadata": {},
   "outputs": [],
   "source": [
    "hw_data = []\n",
    "hw_data_aa = []\n",
    "hw_data_dd = []\n",
    "hw_data_c1 = []\n",
    "hw_data_c2 = []\n",
    "hw_data_t1 = []\n",
    "hw_data_t2 = []\n",
    "hw_data_rd = []\n",
    "hw_data_st = []\n",
    "hw_data_p0 = []\n",
    "hw_data_p1 = []\n",
    "hw_data_p2 = []\n",
    "hw_data_p3 = []\n",
    "hw_data_q0 = []\n",
    "hw_data_q1 = []\n",
    "hw_data_q2 = []\n",
    "hw_data_q3 = []\n",
    "hw_data.append(hw_data_aa)\n",
    "hw_data.append(hw_data_dd)\n",
    "hw_data.append(hw_data_c1)\n",
    "hw_data.append(hw_data_c2)\n",
    "hw_data.append(hw_data_t1)\n",
    "hw_data.append(hw_data_t2)\n",
    "hw_data.append(hw_data_rd)\n",
    "hw_data.append(hw_data_st)\n",
    "hw_data.append(hw_data_p0)\n",
    "hw_data.append(hw_data_p1)\n",
    "hw_data.append(hw_data_p2)\n",
    "hw_data.append(hw_data_p3)\n",
    "hw_data.append(hw_data_q0)\n",
    "hw_data.append(hw_data_q1)\n",
    "hw_data.append(hw_data_q2)\n",
    "hw_data.append(hw_data_q3)  "
   ]
  },
  {
   "cell_type": "code",
   "execution_count": null,
   "metadata": {},
   "outputs": [],
   "source": [
    "clock_hw()\n",
    "clock_hw()\n",
    "cb.write_reg(0, 1)\n",
    "clock_hw()\n",
    "clock_hw()\n",
    "write_data_hw(hw_data)\n",
    "clock_hw()\n",
    "clock_hw()\n",
    "cb.write_reg(0, 0)\n",
    "clock_hw()\n",
    "clock_hw()\n",
    "for i in trange(10):\n",
    "    count = 0\n",
    "    cb.write_fifo(1, [np.random.randint(0,32767)])\n",
    "    clock_hw()\n",
    "    clock_hw()\n",
    "    while (cb.read_reg(1)[1][0] & 1 == 0) and (count < 5000):\n",
    "        clock_hw()       \n",
    "        write_data_hw(hw_data)\n",
    "        count += 1\n",
    "        print(count, end=\", \")"
   ]
  },
  {
   "cell_type": "code",
   "execution_count": null,
   "metadata": {},
   "outputs": [],
   "source": [
    "read_data_hw(hw_data)"
   ]
  },
  {
   "cell_type": "code",
   "execution_count": null,
   "metadata": {},
   "outputs": [],
   "source": [
    "# AGENTS\n",
    "class Agent:\n",
    "    def __init__(self, n_anctions, alfa):\n",
    "        self.alfa = alfa\n",
    "        self.n_anctions = n_anctions\n",
    "        self.indices = np.arange(n_anctions)\n",
    "        self.prob = np.ones(self.n_anctions) / self.n_anctions\n",
    "    def step(self, action, reward):    \n",
    "        self.prob = (1 - self.alfa * reward) * self.prob\n",
    "        self.prob[action] += self.alfa * reward\n",
    "    def act(self):\n",
    "        return np.random.choice(self.indices, p=self.prob)"
   ]
  },
  {
   "cell_type": "code",
   "execution_count": null,
   "metadata": {},
   "outputs": [],
   "source": [
    "# QUANTUM\n",
    "def general1qgate(a,b,c):\n",
    "    u2 = np.matrix([[             np.cos(a/2), -np.exp(1j*c)    *np.sin(a/2)],\n",
    "                    [np.exp(1j*b)*np.sin(a/2),  np.exp(1j*(b+c))*np.cos(a/2)]])\n",
    "    return u2\n",
    "\n",
    "def Numpy_QGT_Nplayers(tipo, J_init, J_dg):\n",
    "    n_p = len(tipo)\n",
    "    strategies_gate = 1\n",
    "    for i in range(n_p):      \n",
    "      players_gate = general1qgate(tipo[i][0], tipo[i][1], tipo[i][2])\n",
    "      strategies_gate = np.kron(strategies_gate, players_gate)\n",
    "    outputstate = J_dg * strategies_gate * J_init\n",
    "    prob = np.power(np.abs(outputstate),2)\n",
    "    return prob\n",
    "\n",
    "def matrix_reward(rotat, J_init, J_dg):  \n",
    "  prob = Numpy_QGT_Nplayers(rotat, J_init, J_dg)\n",
    "  reward_g = prob.transpose() * game\n",
    "  reward_h = reward_g.tolist()[0]\n",
    "  return reward_h\n",
    "\n",
    "# GAME\n",
    "def int_to_binary(s,m):\n",
    "    if s == 0:\n",
    "        return \"0 \" * m\n",
    "    binary1 = \"\"\n",
    "    while s > 0:\n",
    "        binary1 = str(s % 2) + \" \" + binary1\n",
    "        s = s // 2\n",
    "    binary2 = \"0 \" * (m - len(binary1)//2) + binary1\n",
    "    return binary2\n",
    "\n",
    "def platonia_matrix(n): \n",
    "  mm = np.zeros([2**n,n])\n",
    "  for i in range(n):\n",
    "    mm[2**i][n-i-1] = 10\n",
    "  return  mm\n",
    "\n",
    "def minority_matrix(n):\n",
    "  mm = np.zeros([2**n,n])\n",
    "  for i in range(2**n):\n",
    "    numpy_data = np.fromstring(int_to_binary(i,n), dtype=int, sep=' ')\n",
    "    if (np.count_nonzero(numpy_data == 0) > np.count_nonzero(numpy_data == 1)):\n",
    "      mm[i] = np.where(numpy_data == 1, 10, 0)\n",
    "    elif (np.count_nonzero(numpy_data == 0) < np.count_nonzero(numpy_data == 1)):\n",
    "      mm[i] = np.where(numpy_data == 0, 10, 0)\n",
    "  return  mm"
   ]
  },
  {
   "cell_type": "code",
   "execution_count": null,
   "metadata": {},
   "outputs": [],
   "source": [
    "# MAIN\n",
    "players     = 2\n",
    "alfa        = 0.001\n",
    "t_max       = 10000\n",
    "window1     = 1000\n",
    "actions     = [0 for i in range(players)]\n",
    "rotat       = np.zeros([len(actions), 3])\n",
    "rewards     = np.zeros((players, t_max))\n",
    "rewards_avg = np.zeros(rewards.shape)\n",
    "game        = platonia_matrix(players)\n",
    "\n",
    "N_SIZE = 3\n",
    "A_MAX  = 2*np.pi\n",
    "angulos = np.arange(0, A_MAX, A_MAX / np.power(2, N_SIZE))\n",
    "all_actions = [(rx,ry,rz) for rx in angulos for ry in angulos for rz in angulos]\n",
    "gamma = np.pi/2\n",
    "print(\"Players = {}. Learning Rate = {}. Gamma = {:.6f}. Number of actions = {}. \\n {}\".format(players, alfa, gamma, len(all_actions), game))\n",
    "\n",
    "init_mat = np.matrix([[1] if i==0 else [0] for i in range(2**players)])\n",
    "I_f = np.array(np.eye(2**players))\n",
    "X_f = np.array(np.flip(np.eye(2**players),0))\n",
    "J = np.matrix(np.cos(gamma/2) * I_f + 1j * np.sin(gamma/2) * X_f)\n",
    "J_dg = J.H\n",
    "J_init = J * init_mat"
   ]
  },
  {
   "cell_type": "code",
   "execution_count": null,
   "metadata": {},
   "outputs": [],
   "source": [
    "# Initialization\n",
    "agents = []\n",
    "hw_data = []                            # extra\n",
    "for i in range(players-1):\n",
    "    agents.append(Agent(n_anctions=len(all_actions), alfa=alfa))\n",
    "    actions[i] = agents[i].act()\n",
    "    rotat[i] = all_actions[actions[i]]\n",
    "##############################\n",
    "i = players-1\n",
    "cb.write_reg(0, 1)\n",
    "cb.write_reg(0, 0)\n",
    "actions[i] = cb.read_reg(0)[1][0]       #np.random.randint(0, 512)\n",
    "rotat[i] = all_actions[actions[i]]\n",
    "##############################\n",
    "reward = matrix_reward(rotat, J_init, J_dg)\n",
    "print(reward)"
   ]
  },
  {
   "cell_type": "code",
   "execution_count": null,
   "metadata": {},
   "outputs": [],
   "source": [
    "# Iterations\n",
    "for t in trange(t_max):\n",
    "    # Update\n",
    "    for i in range(players-1):\n",
    "        rewards[i,t] = reward[i]\n",
    "        if t<window1:\n",
    "            rewards_avg[i,t] = np.mean(rewards[i,0:t+1])\n",
    "        else:\n",
    "            rewards_avg[i,t] = np.mean(rewards[i,t-window1:t+1])\n",
    "        agents[i].step(actions[i], reward[i])\n",
    "        actions[i] = agents[i].act()\n",
    "        rotat[i] = all_actions[actions[i]]    \n",
    "    ##############################\n",
    "    i = players-1\n",
    "    rewards[i,t] = reward[i]\n",
    "    if t<window1:\n",
    "        rewards_avg[i,t] = np.mean(rewards[i,0:t+1])\n",
    "    else:\n",
    "        rewards_avg[i,t] = np.mean(rewards[i,t-window1:t+1])    \n",
    "    \n",
    "    r_bin = fx.Fxp(reward[i], signed=True, n_word=16, n_frac=11)\n",
    "    r_int = int(r_bin.bin(), 2)\n",
    "    cb.write_fifo(1, [r_int])\n",
    "    while(cb.read_reg(1)[1][0] & 1 == 0):\n",
    "        pass\n",
    "    actions[i] = cb.read_reg(0)[1][0]\n",
    "    rotat[i] = all_actions[actions[i]]  \n",
    "    ##############################\n",
    "    reward = matrix_reward(rotat, J_init, J_dg)"
   ]
  },
  {
   "cell_type": "code",
   "execution_count": null,
   "metadata": {},
   "outputs": [],
   "source": [
    "print(cb.read_reg(0)[1][0])\n",
    "print(cb.read_reg(1)[1][0])\n",
    "print(cb.read_reg(2)[1][0])\n",
    "print(cb.read_reg(3)[1][0])\n",
    "print(cb.read_reg(4)[1][0])\n",
    "print(cb.read_reg(5)[1][0])\n",
    "print(cb.read_reg(6)[1][0])"
   ]
  },
  {
   "cell_type": "code",
   "execution_count": null,
   "metadata": {},
   "outputs": [],
   "source": [
    "# Plotting\n",
    "plt.figure(figsize=(12,8))\n",
    "cumsum = 0\n",
    "for i in range(players):\n",
    "    if i!=(players-1):\n",
    "        plt.plot(rewards_avg[i], label=\"Player {} (SW)\".format(i))\n",
    "    else:\n",
    "        plt.plot(rewards_avg[i], label=\"Player {} (HW)\".format(i))\n",
    "    print(\"Average Reward of Player {} = {:.6f}.\".format(i, rewards_avg[i][-1]))\n",
    "    cumsum += rewards_avg[i][-1]\n",
    "print(\"Performance over all players = {:.2f}%.\".format(10 * cumsum / (players // 2)))\n",
    "plt.ylim(-0.5,10.5)\n",
    "plt.xlabel(\"Iterations\")\n",
    "plt.ylabel(\"Rewards\")\n",
    "plt.title(\"Reward vs Iterations\")\n",
    "plt.legend(loc=\"upper left\")\n",
    "plt.show()"
   ]
  },
  {
   "cell_type": "code",
   "execution_count": null,
   "metadata": {},
   "outputs": [],
   "source": []
  }
 ],
 "metadata": {
  "kernelspec": {
   "display_name": "Python 3",
   "language": "python",
   "name": "python3"
  },
  "language_info": {
   "codemirror_mode": {
    "name": "ipython",
    "version": 3
   },
   "file_extension": ".py",
   "mimetype": "text/x-python",
   "name": "python",
   "nbconvert_exporter": "python",
   "pygments_lexer": "ipython3",
   "version": "3.10.7"
  },
  "orig_nbformat": 4
 },
 "nbformat": 4,
 "nbformat_minor": 2
}
