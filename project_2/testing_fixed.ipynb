{
 "cells": [
  {
   "cell_type": "code",
   "execution_count": 1,
   "metadata": {},
   "outputs": [],
   "source": [
    "import udma\n",
    "import numpy as np\n",
    "import fxpmath as fx\n",
    "import matplotlib.pyplot as plt\n",
    "from tqdm import trange"
   ]
  },
  {
   "cell_type": "code",
   "execution_count": 2,
   "metadata": {},
   "outputs": [],
   "source": [
    "def dec2fixed(dec, left, right):\n",
    "    binary = np.binary_repr(dec, width = (left - right + 1))\n",
    "    fixed = 0\n",
    "    for i,j in enumerate(np.arange(left, right - 1, -1)):\n",
    "        if j<0:\n",
    "            fixed += int(binary[i]) / (2**(-j))\n",
    "        else:\n",
    "            fixed += int(binary[i]) * (2**(j))\n",
    "    return fixed"
   ]
  },
  {
   "cell_type": "code",
   "execution_count": 3,
   "metadata": {},
   "outputs": [
    {
     "name": "stdout",
     "output_type": "stream",
     "text": [
      "0.9891357421875\n"
     ]
    }
   ],
   "source": [
    "print(dec2fixed(8103, 2, -13))"
   ]
  },
  {
   "cell_type": "code",
   "execution_count": 40,
   "metadata": {},
   "outputs": [
    {
     "name": "stdout",
     "output_type": "stream",
     "text": [
      "0.0004882812500002334\n"
     ]
    }
   ],
   "source": [
    "x1 = (1 - 0.999767780303955)\n",
    "x2 = dec2fixed(974, 4, -11)\n",
    "print(x1/x2)"
   ]
  },
  {
   "cell_type": "code",
   "execution_count": 26,
   "metadata": {},
   "outputs": [
    {
     "data": {
      "text/plain": [
       "[(5,), 0]"
      ]
     },
     "execution_count": 26,
     "metadata": {},
     "output_type": "execute_result"
    }
   ],
   "source": [
    "cb = udma.UDMA_CLASS('192.168.1.10', 7)\n",
    "cb.connect()\n",
    "cb.log(0)"
   ]
  },
  {
   "cell_type": "code",
   "execution_count": 42,
   "metadata": {},
   "outputs": [
    {
     "data": {
      "text/plain": [
       "[(1, 0), 0]"
      ]
     },
     "execution_count": 42,
     "metadata": {},
     "output_type": "execute_result"
    }
   ],
   "source": [
    "cb.write_reg(0, 1)\n",
    "cb.write_reg(0, 0)"
   ]
  },
  {
   "cell_type": "code",
   "execution_count": 46,
   "metadata": {},
   "outputs": [
    {
     "name": "stderr",
     "output_type": "stream",
     "text": [
      "100%|██████████| 1/1 [00:00<00:00,  3.36it/s]"
     ]
    },
    {
     "name": "stdout",
     "output_type": "stream",
     "text": [
      "SOFTWARE -> 0.004195635534415487 = 0.0032958984375 * 0.9990972876548767 + 0.000902712345123291 || 0.015488935001485515 = 0.0032958984375 * 0.9990972876548767\n",
      "HARDWARE -> 0.0042724609375 = 0.0032958984375 * 0.9990234375 + 0.000902712345123291 || 0.0155029296875 = 0.0032958984375 * 0.9990234375\n"
     ]
    },
    {
     "name": "stderr",
     "output_type": "stream",
     "text": [
      "\n"
     ]
    }
   ],
   "source": [
    "for i in trange(1):\n",
    "    p0 = cb.read_reg(0)[1][0]\n",
    "    p1 = cb.read_reg(1)[1][0]     \n",
    "    x = np.random.randint(0,32767)  \n",
    "    cb.write_fifo(1, [x])\n",
    "    while (cb.read_reg(5)[1][0] & 1 == 0):\n",
    "        pass\n",
    "    px0 = dec2fixed(p0, 2, -13)\n",
    "    px1 = dec2fixed(p1, 2, -13)\n",
    "    rw = dec2fixed(x, 5, -11) * 0.0001220703125\n",
    "    ts1 = 1 - rw\n",
    "    ts2 = rw\n",
    "    ps0 = px0 * ts1 + ts2\n",
    "    ps1 = px1 * ts1\n",
    "    th1 = dec2fixed(cb.read_reg(2)[1][0], 2, -13)\n",
    "    th2 = dec2fixed(cb.read_reg(3)[1][0], -9, -24)\n",
    "    ph0 = dec2fixed(cb.read_reg(0)[1][0], 2, -13)\n",
    "    ph1 = dec2fixed(cb.read_reg(1)[1][0], 2, -13)\n",
    "    print(\"SOFTWARE -> {} = {} * {} + {} || {} = {} * {}\".format(ps0, px0, ts1, ts2, ps1, px0, ts1))\n",
    "    print(\"HARDWARE -> {} = {} * {} + {} || {} = {} * {}\".format(ph0, px0, th1, th2, ph1, px0, th1))"
   ]
  },
  {
   "cell_type": "code",
   "execution_count": 44,
   "metadata": {},
   "outputs": [
    {
     "data": {
      "text/plain": [
       "1.0"
      ]
     },
     "execution_count": 44,
     "metadata": {},
     "output_type": "execute_result"
    }
   ],
   "source": [
    "ts2 / th2"
   ]
  },
  {
   "cell_type": "code",
   "execution_count": null,
   "metadata": {},
   "outputs": [],
   "source": []
  }
 ],
 "metadata": {
  "kernelspec": {
   "display_name": "Python 3",
   "language": "python",
   "name": "python3"
  },
  "language_info": {
   "codemirror_mode": {
    "name": "ipython",
    "version": 3
   },
   "file_extension": ".py",
   "mimetype": "text/x-python",
   "name": "python",
   "nbconvert_exporter": "python",
   "pygments_lexer": "ipython3",
   "version": "3.10.7"
  }
 },
 "nbformat": 4,
 "nbformat_minor": 2
}
